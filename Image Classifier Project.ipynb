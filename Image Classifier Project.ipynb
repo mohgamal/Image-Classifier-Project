{
 "cells": [
  {
   "cell_type": "markdown",
   "metadata": {},
   "source": [
    "# Developing an AI application\n",
    "\n",
    "Going forward, AI algorithms will be incorporated into more and more everyday applications. For example, you might want to include an image classifier in a smart phone app. To do this, you'd use a deep learning model trained on hundreds of thousands of images as part of the overall application architecture. A large part of software development in the future will be using these types of models as common parts of applications. \n",
    "\n",
    "In this project, you'll train an image classifier to recognize different species of flowers. You can imagine using something like this in a phone app that tells you the name of the flower your camera is looking at. In practice you'd train this classifier, then export it for use in your application. We'll be using [this dataset](http://www.robots.ox.ac.uk/~vgg/data/flowers/102/index.html) of 102 flower categories, you can see a few examples below. \n",
    "\n",
    "<img src='assets/Flowers.png' width=500px>\n",
    "\n",
    "The project is broken down into multiple steps:\n",
    "\n",
    "* Load and preprocess the image dataset\n",
    "* Train the image classifier on your dataset\n",
    "* Use the trained classifier to predict image content\n",
    "\n",
    "We'll lead you through each part which you'll implement in Python.\n",
    "\n",
    "When you've completed this project, you'll have an application that can be trained on any set of labeled images. Here your network will be learning about flowers and end up as a command line application. But, what you do with your new skills depends on your imagination and effort in building a dataset. For example, imagine an app where you take a picture of a car, it tells you what the make and model is, then looks up information about it. Go build your own dataset and make something new.\n",
    "\n",
    "First up is importing the packages you'll need. It's good practice to keep all the imports at the beginning of your code. As you work through this notebook and find you need to import a package, make sure to add the import up here.\n",
    "\n",
    "Please make sure if you are running this notebook in the workspace that you have chosen GPU rather than CPU mode."
   ]
  },
  {
   "cell_type": "code",
   "execution_count": 1,
   "metadata": {},
   "outputs": [],
   "source": [
    "# Imports here\n",
    "\n",
    "import matplotlib.pyplot as plt\n",
    "\n",
    "import numpy as np\n",
    "import torch\n",
    "\n",
    "\n",
    "import torch.nn.functional as F\n",
    "from torch import nn, optim\n",
    "from torchvision import datasets, transforms, models\n",
    "import torchvision.models as models\n",
    "\n",
    "from PIL import Image\n",
    "from matplotlib.ticker import FormatStrFormatter\n"
   ]
  },
  {
   "cell_type": "markdown",
   "metadata": {},
   "source": [
    "## Load the data\n",
    "\n",
    "Here you'll use `torchvision` to load the data ([documentation](http://pytorch.org/docs/0.3.0/torchvision/index.html)). The data should be included alongside this notebook, otherwise you can [download it here](https://s3.amazonaws.com/content.udacity-data.com/nd089/flower_data.tar.gz). The dataset is split into three parts, training, validation, and testing. For the training, you'll want to apply transformations such as random scaling, cropping, and flipping. This will help the network generalize leading to better performance. You'll also need to make sure the input data is resized to 224x224 pixels as required by the pre-trained networks.\n",
    "\n",
    "The validation and testing sets are used to measure the model's performance on data it hasn't seen yet. For this you don't want any scaling or rotation transformations, but you'll need to resize then crop the images to the appropriate size.\n",
    "\n",
    "The pre-trained networks you'll use were trained on the ImageNet dataset where each color channel was normalized separately. For all three sets you'll need to normalize the means and standard deviations of the images to what the network expects. For the means, it's `[0.485, 0.456, 0.406]` and for the standard deviations `[0.229, 0.224, 0.225]`, calculated from the ImageNet images.  These values will shift each color channel to be centered at 0 and range from -1 to 1.\n",
    " "
   ]
  },
  {
   "cell_type": "code",
   "execution_count": 2,
   "metadata": {},
   "outputs": [],
   "source": [
    "data_dir = 'flowers'\n",
    "train_dir = data_dir + '/train'\n",
    "valid_dir = data_dir + '/valid'\n",
    "test_dir = data_dir + '/test'"
   ]
  },
  {
   "cell_type": "code",
   "execution_count": 3,
   "metadata": {},
   "outputs": [],
   "source": [
    "# TODO: Define your transforms for the training, validation, and testing sets\n",
    "\n",
    "\n",
    "#with training data, you typically want to do data argumentation ; rotating it,resizing it, flipping it\n",
    "#to create this simulated dataset of more images than we acually have\n",
    "#firstly; it just gives us more data to actually train with\n",
    "#secondly; it helps the network the network generalize to images that aren't in the training set\n",
    "\n",
    "#combine these transforms into a pipeline of transform using  (transforms.Compose)\n",
    "train_transforms =transforms.Compose([transforms.RandomRotation(30),      #random rotation with 30 degree\n",
    "                                       transforms.RandomResizedCrop(224), #random resize crop; randomly resizing the image and then take a crop from the center of 224 pixel square \n",
    "                                       transforms.RandomHorizontalFlip(), #random horizontal flip, it's going to mirror it horizontally \n",
    "                                       transforms.ToTensor(),           #change it to a tensor \n",
    "                                       transforms.Normalize([0.485, 0.456, 0.406], \n",
    "                                                            [0.229, 0.224, 0.225])]) \n",
    "\n",
    "#notice one thing to remember is that for testing when you're doing your validation, \n",
    "#we don't want to do any of this data augmentation\n",
    "validation_transforms =transforms.Compose([transforms.Resize(256),\n",
    "                                      transforms.CenterCrop(224),\n",
    "                                      transforms.ToTensor(),\n",
    "                                      transforms.Normalize([0.485, 0.456, 0.406], \n",
    "                                                           [0.229, 0.224, 0.225])]) \n",
    "\n",
    "test_transforms =transforms.Compose([transforms.Resize(256),\n",
    "                                            transforms.CenterCrop(224),\n",
    "                                            transforms.ToTensor(),\n",
    "                                            transforms.Normalize([0.485, 0.456, 0.406], \n",
    "                                                                 [0.229, 0.224, 0.225])]) \n",
    "\n",
    "# TODO: Load the datasets with ImageFolder\n",
    "#after defining our transforms and then you pass that to dataloder\n",
    "train_data = datasets.ImageFolder(train_dir, transform=train_transforms) #(transform=train_transform) we pass ourdata directories and our transformer through imagefolder and along with the path to our dataset and that creats a \"train_data\" object \n",
    "validation_data = datasets.ImageFolder(valid_dir, transform=validation_transforms) #so on\n",
    "test_data = datasets.ImageFolder(test_dir ,transform = test_transforms)    #so on\n",
    " \n",
    "\n",
    "\n",
    "\n",
    "# TODO: Using the image datasets and the trainforms, define the dataloaders\n",
    "trainloader = torch.utils.data.DataLoader(train_data, batch_size=64, shuffle=True) #DataLoader(we can pass train_data to data folder, this will give us back a generator were we actually can get our images and labels and we give our loaded data to our data loaders to actually get our load our datasets\n",
    "validationloader = torch.utils.data.DataLoader(validation_data, batch_size =32,shuffle = True)\n",
    "testloader = torch.utils.data.DataLoader(test_data, batch_size = 20, shuffle = True)\n",
    "\n",
    "#shuffle=True\n",
    "#what shuffle does is it randomly shuffles your data every time you start anew epoch\n",
    "#this's useful because when you're training your network we prefer it \n",
    "#the second time it goes through to see your images in a different order\n",
    "#the third time it goes through to see your images in a different order \n",
    "#rather than just learning in the same order every time \n",
    "#because then this could introduce weird artifacts in how your network is learning from your data "
   ]
  },
  {
   "cell_type": "markdown",
   "metadata": {},
   "source": [
    "### Label mapping\n",
    "\n",
    "You'll also need to load in a mapping from category label to category name. You can find this in the file `cat_to_name.json`. It's a JSON object which you can read in with the [`json` module](https://docs.python.org/2/library/json.html). This will give you a dictionary mapping the integer encoded categories to the actual names of the flowers."
   ]
  },
  {
   "cell_type": "code",
   "execution_count": 4,
   "metadata": {},
   "outputs": [],
   "source": [
    "import json\n",
    "\n",
    "with open('cat_to_name.json', 'r') as f:\n",
    "    cat_to_name = json.load(f)"
   ]
  },
  {
   "cell_type": "markdown",
   "metadata": {},
   "source": [
    "# Building and training the classifier\n",
    "\n",
    "Now that the data is ready, it's time to build and train the classifier. As usual, you should use one of the pretrained models from `torchvision.models` to get the image features. Build and train a new feed-forward classifier using those features.\n",
    "\n",
    "We're going to leave this part up to you. Refer to [the rubric](https://review.udacity.com/#!/rubrics/1663/view) for guidance on successfully completing this section. Things you'll need to do:\n",
    "\n",
    "* Load a [pre-trained network](http://pytorch.org/docs/master/torchvision/models.html) (If you need a starting point, the VGG networks work great and are straightforward to use)\n",
    "* Define a new, untrained feed-forward network as a classifier, using ReLU activations and dropout\n",
    "* Train the classifier layers using backpropagation using the pre-trained network to get the features\n",
    "* Track the loss and accuracy on the validation set to determine the best hyperparameters\n",
    "\n",
    "We've left a cell open for you below, but use as many as you need. Our advice is to break the problem up into smaller parts you can run separately. Check that each part is doing what you expect, then move on to the next. You'll likely find that as you work through each part, you'll need to go back and modify your previous code. This is totally normal!\n",
    "\n",
    "When training make sure you're updating only the weights of the feed-forward network. You should be able to get the validation accuracy above 70% if you build everything right. Make sure to try different hyperparameters (learning rate, units in the classifier, epochs, etc) to find the best model. Save those hyperparameters to use as default values in the next part of the project.\n",
    "\n",
    "One last important tip if you're using the workspace to run your code: To avoid having your workspace disconnect during the long-running tasks in this notebook, please read in the earlier page in this lesson called Intro to GPU Workspaces about Keeping Your Session Active. You'll want to include code from the workspace_utils.py module."
   ]
  },
  {
   "cell_type": "code",
   "execution_count": 5,
   "metadata": {},
   "outputs": [],
   "source": [
    "device = torch.device(\"cuda\" if torch.cuda.is_available() else \"cpu\")"
   ]
  },
  {
   "cell_type": "markdown",
   "metadata": {},
   "source": [
    "---\n",
    "## Define the Model\n",
    "\n",
    "To define a model for training we'll follow these steps:\n",
    "1. Load in a pre-trained VGG16 model\n",
    "2. \"Freeze\" all the parameters, so the net acts as a fixed feature extractor \n",
    "3. Remove the last layer\n",
    "4. Replace the last layer with a linear classifier of our own\n",
    "\n",
    "**Freezing simply means that the parameters in the pre-trained model will *not* change during training.**"
   ]
  },
  {
   "cell_type": "code",
   "execution_count": 6,
   "metadata": {},
   "outputs": [
    {
     "name": "stderr",
     "output_type": "stream",
     "text": [
      "Downloading: \"https://download.pytorch.org/models/vgg16-397923af.pth\" to /root/.torch/models/vgg16-397923af.pth\n",
      "100%|██████████| 553433881/553433881 [00:43<00:00, 12845215.43it/s]\n"
     ]
    },
    {
     "data": {
      "text/plain": [
       "VGG(\n",
       "  (features): Sequential(\n",
       "    (0): Conv2d(3, 64, kernel_size=(3, 3), stride=(1, 1), padding=(1, 1))\n",
       "    (1): ReLU(inplace)\n",
       "    (2): Conv2d(64, 64, kernel_size=(3, 3), stride=(1, 1), padding=(1, 1))\n",
       "    (3): ReLU(inplace)\n",
       "    (4): MaxPool2d(kernel_size=2, stride=2, padding=0, dilation=1, ceil_mode=False)\n",
       "    (5): Conv2d(64, 128, kernel_size=(3, 3), stride=(1, 1), padding=(1, 1))\n",
       "    (6): ReLU(inplace)\n",
       "    (7): Conv2d(128, 128, kernel_size=(3, 3), stride=(1, 1), padding=(1, 1))\n",
       "    (8): ReLU(inplace)\n",
       "    (9): MaxPool2d(kernel_size=2, stride=2, padding=0, dilation=1, ceil_mode=False)\n",
       "    (10): Conv2d(128, 256, kernel_size=(3, 3), stride=(1, 1), padding=(1, 1))\n",
       "    (11): ReLU(inplace)\n",
       "    (12): Conv2d(256, 256, kernel_size=(3, 3), stride=(1, 1), padding=(1, 1))\n",
       "    (13): ReLU(inplace)\n",
       "    (14): Conv2d(256, 256, kernel_size=(3, 3), stride=(1, 1), padding=(1, 1))\n",
       "    (15): ReLU(inplace)\n",
       "    (16): MaxPool2d(kernel_size=2, stride=2, padding=0, dilation=1, ceil_mode=False)\n",
       "    (17): Conv2d(256, 512, kernel_size=(3, 3), stride=(1, 1), padding=(1, 1))\n",
       "    (18): ReLU(inplace)\n",
       "    (19): Conv2d(512, 512, kernel_size=(3, 3), stride=(1, 1), padding=(1, 1))\n",
       "    (20): ReLU(inplace)\n",
       "    (21): Conv2d(512, 512, kernel_size=(3, 3), stride=(1, 1), padding=(1, 1))\n",
       "    (22): ReLU(inplace)\n",
       "    (23): MaxPool2d(kernel_size=2, stride=2, padding=0, dilation=1, ceil_mode=False)\n",
       "    (24): Conv2d(512, 512, kernel_size=(3, 3), stride=(1, 1), padding=(1, 1))\n",
       "    (25): ReLU(inplace)\n",
       "    (26): Conv2d(512, 512, kernel_size=(3, 3), stride=(1, 1), padding=(1, 1))\n",
       "    (27): ReLU(inplace)\n",
       "    (28): Conv2d(512, 512, kernel_size=(3, 3), stride=(1, 1), padding=(1, 1))\n",
       "    (29): ReLU(inplace)\n",
       "    (30): MaxPool2d(kernel_size=2, stride=2, padding=0, dilation=1, ceil_mode=False)\n",
       "  )\n",
       "  (classifier): Sequential(\n",
       "    (0): Linear(in_features=25088, out_features=4096, bias=True)\n",
       "    (1): ReLU(inplace)\n",
       "    (2): Dropout(p=0.5)\n",
       "    (3): Linear(in_features=4096, out_features=4096, bias=True)\n",
       "    (4): ReLU(inplace)\n",
       "    (5): Dropout(p=0.5)\n",
       "    (6): Linear(in_features=4096, out_features=1000, bias=True)\n",
       "  )\n",
       ")"
      ]
     },
     "execution_count": 6,
     "metadata": {},
     "output_type": "execute_result"
    }
   ],
   "source": [
    "# TODO: Build and train your network\n",
    "\n",
    "#load model and use it \n",
    "model = models.vgg16(pretrained=True)  #download the pre-trained network, weights and parameter then load it into our model\n",
    "\n",
    "model # to look at what the architecture of this model"
   ]
  },
  {
   "cell_type": "code",
   "execution_count": 7,
   "metadata": {},
   "outputs": [
    {
     "name": "stdout",
     "output_type": "stream",
     "text": [
      "4096\n",
      "1000\n"
     ]
    }
   ],
   "source": [
    "#You can access any layer in a pretrained network by name and (sometimes) number\n",
    "\n",
    "print(model.classifier[6].in_features) \n",
    "print(model.classifier[6].out_features)"
   ]
  },
  {
   "cell_type": "code",
   "execution_count": 8,
   "metadata": {},
   "outputs": [],
   "source": [
    "# Freeze our features parameters to keep features part static, Freeze training for all \"features\" layers\n",
    "\n",
    "for param in model.parameters(): #we go through our parameters in our model\n",
    "    param.requires_grad = False  #this will do is that when we run our tensor through the model, \n",
    "                                #it's not going to calculate the gradients; it is not going to keep track of all these operation \n",
    "                               #and also will speed up training because we're not keeping track of these operations for the features  \n"
   ]
  },
  {
   "cell_type": "markdown",
   "metadata": {},
   "source": [
    "### Final Classifier Layer\n",
    "\n",
    "Once you have the pre-trained feature extractor, you just need to modify and/or add to the final, fully-connected classifier layers.\n",
    "\n",
    "This layer should see as input the number of features produced by the portion of the network that you are not changing, and produce an appropriate number of outputs for the flower classification task."
   ]
  },
  {
   "cell_type": "code",
   "execution_count": 9,
   "metadata": {},
   "outputs": [],
   "source": [
    "#replace the last layer in the model classifier group of layers.\n",
    "\n",
    "# add last linear layer (n_inputs -> 102 flower classes)\n",
    "# new layers automatically have requires_grad = True\n",
    "\n",
    "n_inputs = model.classifier[6].in_features\n",
    "last_layer = nn.Linear(n_inputs, 102)\n",
    "model.classifier[6] = last_layer \n",
    "\n"
   ]
  },
  {
   "cell_type": "code",
   "execution_count": 10,
   "metadata": {},
   "outputs": [
    {
     "name": "stdout",
     "output_type": "stream",
     "text": [
      "4096\n",
      "102\n"
     ]
    }
   ],
   "source": [
    "# check to see that your last layer produces the expected number of outputs\n",
    "\n",
    "print(model.classifier[6].in_features)\n",
    "print(model.classifier[6].out_features)\n"
   ]
  },
  {
   "cell_type": "code",
   "execution_count": 11,
   "metadata": {},
   "outputs": [
    {
     "name": "stdout",
     "output_type": "stream",
     "text": [
      "VGG(\n",
      "  (features): Sequential(\n",
      "    (0): Conv2d(3, 64, kernel_size=(3, 3), stride=(1, 1), padding=(1, 1))\n",
      "    (1): ReLU(inplace)\n",
      "    (2): Conv2d(64, 64, kernel_size=(3, 3), stride=(1, 1), padding=(1, 1))\n",
      "    (3): ReLU(inplace)\n",
      "    (4): MaxPool2d(kernel_size=2, stride=2, padding=0, dilation=1, ceil_mode=False)\n",
      "    (5): Conv2d(64, 128, kernel_size=(3, 3), stride=(1, 1), padding=(1, 1))\n",
      "    (6): ReLU(inplace)\n",
      "    (7): Conv2d(128, 128, kernel_size=(3, 3), stride=(1, 1), padding=(1, 1))\n",
      "    (8): ReLU(inplace)\n",
      "    (9): MaxPool2d(kernel_size=2, stride=2, padding=0, dilation=1, ceil_mode=False)\n",
      "    (10): Conv2d(128, 256, kernel_size=(3, 3), stride=(1, 1), padding=(1, 1))\n",
      "    (11): ReLU(inplace)\n",
      "    (12): Conv2d(256, 256, kernel_size=(3, 3), stride=(1, 1), padding=(1, 1))\n",
      "    (13): ReLU(inplace)\n",
      "    (14): Conv2d(256, 256, kernel_size=(3, 3), stride=(1, 1), padding=(1, 1))\n",
      "    (15): ReLU(inplace)\n",
      "    (16): MaxPool2d(kernel_size=2, stride=2, padding=0, dilation=1, ceil_mode=False)\n",
      "    (17): Conv2d(256, 512, kernel_size=(3, 3), stride=(1, 1), padding=(1, 1))\n",
      "    (18): ReLU(inplace)\n",
      "    (19): Conv2d(512, 512, kernel_size=(3, 3), stride=(1, 1), padding=(1, 1))\n",
      "    (20): ReLU(inplace)\n",
      "    (21): Conv2d(512, 512, kernel_size=(3, 3), stride=(1, 1), padding=(1, 1))\n",
      "    (22): ReLU(inplace)\n",
      "    (23): MaxPool2d(kernel_size=2, stride=2, padding=0, dilation=1, ceil_mode=False)\n",
      "    (24): Conv2d(512, 512, kernel_size=(3, 3), stride=(1, 1), padding=(1, 1))\n",
      "    (25): ReLU(inplace)\n",
      "    (26): Conv2d(512, 512, kernel_size=(3, 3), stride=(1, 1), padding=(1, 1))\n",
      "    (27): ReLU(inplace)\n",
      "    (28): Conv2d(512, 512, kernel_size=(3, 3), stride=(1, 1), padding=(1, 1))\n",
      "    (29): ReLU(inplace)\n",
      "    (30): MaxPool2d(kernel_size=2, stride=2, padding=0, dilation=1, ceil_mode=False)\n",
      "  )\n",
      "  (classifier): Sequential(\n",
      "    (0): Linear(in_features=25088, out_features=4096, bias=True)\n",
      "    (1): ReLU(inplace)\n",
      "    (2): Dropout(p=0.5)\n",
      "    (3): Linear(in_features=4096, out_features=4096, bias=True)\n",
      "    (4): ReLU(inplace)\n",
      "    (5): Dropout(p=0.5)\n",
      "    (6): Linear(in_features=4096, out_features=102, bias=True)\n",
      "  )\n",
      ")\n"
     ]
    }
   ],
   "source": [
    "print(model)"
   ]
  },
  {
   "cell_type": "code",
   "execution_count": 12,
   "metadata": {},
   "outputs": [],
   "source": [
    "# Define the loss and the optimize\n",
    "\n",
    "criterion = nn.NLLLoss()\n",
    "#With a log-softmax output, you want to use the negative log likelihood loss, nn.NLLLoss\n",
    "\n",
    "optimizer = optim.Adam(model.classifier[6].parameters(), lr=0.003)\n",
    "\n",
    "#Optimizers require for the last layer which we replace; the parameters to optimize and a learning rate\n",
    "#optim.Adam this's basically the same as stochastic gradient descent, but it has some nice properties where it uses momentum which speeds up the actual fitting process\n",
    "#and it also adjust the learning rate for each of the individual parameters in your model"
   ]
  },
  {
   "cell_type": "markdown",
   "metadata": {},
   "source": [
    "Define [the criterion](http://pytorch.org/docs/master/nn.html#loss-functions) (something like `nn.CrossEntropyLoss` or `nn.NLLLoss`) and [the optimizer](http://pytorch.org/docs/master/optim.html) (typically `optim.SGD` or `optim.Adam`)."
   ]
  },
  {
   "cell_type": "code",
   "execution_count": 13,
   "metadata": {},
   "outputs": [],
   "source": [
    "model.to(device);"
   ]
  },
  {
   "cell_type": "code",
   "execution_count": 14,
   "metadata": {},
   "outputs": [
    {
     "name": "stdout",
     "output_type": "stream",
     "text": [
      "Epoch 1/3.. Train loss: -1.154.. Test loss: -3.209.. Test accuracy: 0.111\n",
      "Epoch 1/3.. Train loss: -5.052.. Test loss: -7.258.. Test accuracy: 0.110\n",
      "Epoch 1/3.. Train loss: -9.405.. Test loss: -11.379.. Test accuracy: 0.089\n",
      "Epoch 1/3.. Train loss: -14.001.. Test loss: -15.499.. Test accuracy: 0.082\n",
      "Epoch 1/3.. Train loss: -18.066.. Test loss: -19.590.. Test accuracy: 0.081\n",
      "Epoch 1/3.. Train loss: -21.815.. Test loss: -23.667.. Test accuracy: 0.084\n",
      "Epoch 1/3.. Train loss: -28.258.. Test loss: -27.809.. Test accuracy: 0.088\n",
      "Epoch 1/3.. Train loss: -29.963.. Test loss: -31.886.. Test accuracy: 0.089\n",
      "Epoch 1/3.. Train loss: -36.792.. Test loss: -35.977.. Test accuracy: 0.074\n",
      "Epoch 1/3.. Train loss: -40.492.. Test loss: -40.039.. Test accuracy: 0.073\n",
      "Epoch 1/3.. Train loss: -44.193.. Test loss: -44.164.. Test accuracy: 0.073\n",
      "Epoch 1/3.. Train loss: -49.241.. Test loss: -48.261.. Test accuracy: 0.079\n",
      "Epoch 1/3.. Train loss: -52.459.. Test loss: -52.336.. Test accuracy: 0.090\n",
      "Epoch 1/3.. Train loss: -58.577.. Test loss: -56.429.. Test accuracy: 0.088\n",
      "Epoch 1/3.. Train loss: -63.638.. Test loss: -60.547.. Test accuracy: 0.077\n",
      "Epoch 1/3.. Train loss: -67.946.. Test loss: -64.724.. Test accuracy: 0.076\n",
      "Epoch 1/3.. Train loss: -71.867.. Test loss: -68.867.. Test accuracy: 0.082\n",
      "Epoch 1/3.. Train loss: -75.650.. Test loss: -72.984.. Test accuracy: 0.081\n",
      "Epoch 1/3.. Train loss: -82.319.. Test loss: -77.102.. Test accuracy: 0.072\n",
      "Epoch 1/3.. Train loss: -81.978.. Test loss: -81.191.. Test accuracy: 0.071\n",
      "Epoch 2/3.. Train loss: -88.983.. Test loss: -85.187.. Test accuracy: 0.061\n",
      "Epoch 2/3.. Train loss: -92.480.. Test loss: -89.165.. Test accuracy: 0.051\n",
      "Epoch 2/3.. Train loss: -98.351.. Test loss: -93.143.. Test accuracy: 0.048\n",
      "Epoch 2/3.. Train loss: -102.227.. Test loss: -97.124.. Test accuracy: 0.039\n",
      "Epoch 2/3.. Train loss: -106.234.. Test loss: -101.137.. Test accuracy: 0.041\n",
      "Epoch 2/3.. Train loss: -111.403.. Test loss: -105.085.. Test accuracy: 0.030\n",
      "Epoch 2/3.. Train loss: -115.048.. Test loss: -109.067.. Test accuracy: 0.028\n",
      "Epoch 2/3.. Train loss: -121.826.. Test loss: -113.027.. Test accuracy: 0.030\n",
      "Epoch 2/3.. Train loss: -121.698.. Test loss: -116.929.. Test accuracy: 0.024\n",
      "Epoch 2/3.. Train loss: -128.825.. Test loss: -120.922.. Test accuracy: 0.018\n",
      "Epoch 2/3.. Train loss: -133.304.. Test loss: -124.958.. Test accuracy: 0.018\n",
      "Epoch 2/3.. Train loss: -136.587.. Test loss: -128.983.. Test accuracy: 0.018\n",
      "Epoch 2/3.. Train loss: -141.625.. Test loss: -133.042.. Test accuracy: 0.017\n",
      "Epoch 2/3.. Train loss: -144.397.. Test loss: -137.106.. Test accuracy: 0.017\n",
      "Epoch 2/3.. Train loss: -146.191.. Test loss: -141.171.. Test accuracy: 0.015\n",
      "Epoch 2/3.. Train loss: -148.148.. Test loss: -145.219.. Test accuracy: 0.016\n",
      "Epoch 2/3.. Train loss: -158.110.. Test loss: -149.193.. Test accuracy: 0.016\n",
      "Epoch 2/3.. Train loss: -162.751.. Test loss: -153.227.. Test accuracy: 0.016\n",
      "Epoch 2/3.. Train loss: -172.833.. Test loss: -157.293.. Test accuracy: 0.015\n",
      "Epoch 2/3.. Train loss: -171.690.. Test loss: -161.408.. Test accuracy: 0.015\n",
      "Epoch 2/3.. Train loss: -176.322.. Test loss: -165.565.. Test accuracy: 0.015\n",
      "Epoch 3/3.. Train loss: -178.936.. Test loss: -169.679.. Test accuracy: 0.015\n",
      "Epoch 3/3.. Train loss: -178.979.. Test loss: -173.717.. Test accuracy: 0.013\n",
      "Epoch 3/3.. Train loss: -191.575.. Test loss: -177.738.. Test accuracy: 0.013\n",
      "Epoch 3/3.. Train loss: -195.251.. Test loss: -181.721.. Test accuracy: 0.012\n",
      "Epoch 3/3.. Train loss: -197.183.. Test loss: -185.749.. Test accuracy: 0.012\n",
      "Epoch 3/3.. Train loss: -202.456.. Test loss: -189.749.. Test accuracy: 0.011\n",
      "Epoch 3/3.. Train loss: -205.553.. Test loss: -193.749.. Test accuracy: 0.011\n",
      "Epoch 3/3.. Train loss: -208.945.. Test loss: -197.748.. Test accuracy: 0.010\n",
      "Epoch 3/3.. Train loss: -218.332.. Test loss: -201.753.. Test accuracy: 0.010\n",
      "Epoch 3/3.. Train loss: -222.162.. Test loss: -205.733.. Test accuracy: 0.009\n",
      "Epoch 3/3.. Train loss: -221.503.. Test loss: -209.785.. Test accuracy: 0.009\n",
      "Epoch 3/3.. Train loss: -227.990.. Test loss: -213.818.. Test accuracy: 0.007\n",
      "Epoch 3/3.. Train loss: -226.567.. Test loss: -217.824.. Test accuracy: 0.007\n",
      "Epoch 3/3.. Train loss: -235.778.. Test loss: -221.778.. Test accuracy: 0.007\n",
      "Epoch 3/3.. Train loss: -240.622.. Test loss: -225.808.. Test accuracy: 0.007\n",
      "Epoch 3/3.. Train loss: -250.131.. Test loss: -229.795.. Test accuracy: 0.006\n",
      "Epoch 3/3.. Train loss: -248.622.. Test loss: -233.874.. Test accuracy: 0.006\n",
      "Epoch 3/3.. Train loss: -250.068.. Test loss: -237.841.. Test accuracy: 0.006\n",
      "Epoch 3/3.. Train loss: -257.598.. Test loss: -241.806.. Test accuracy: 0.006\n",
      "Epoch 3/3.. Train loss: -262.889.. Test loss: -245.755.. Test accuracy: 0.006\n"
     ]
    }
   ],
   "source": [
    "epochs = 12\n",
    "steps = 0         #tracking the numbel of train steps we do\n",
    "running_loss = 0 #tracking the loss with running loss\n",
    "print_every = 5 #how many steps we're going to go before we print out the validation loss\n",
    "for epoch in range(epochs):\n",
    "    for inputs, labels in trainloader:\n",
    "        steps += 1   #cumulate steps; every time we go through one of these batches, we're going to increment steps here \n",
    "        inputs, labels = inputs.to(device), labels.to(device) #similarly; if you want to run your inputs through your model, you have to make sure that the tensors that you're putting trough your model or on the GPU if your model's on the GPU \n",
    "        \n",
    "        optimizer.zero_grad()            # Clear the gradients, do this because gradients are accumulated.before every training passes\n",
    "\n",
    "# Forward pass, then backward pass, then update weights\n",
    "\n",
    "        logps = model.forward(inputs)    #(log probability) to take maximum probability and get minimizing cross entropy;  Forward pass,get our log-probabilities; get our probability by passing in the inputs to a model\n",
    "        loss = criterion(logps, labels)  #Calculate the loss with the logps and the labels\n",
    "        loss.backward()                  #we'll do our backwards pass starting from the loss , so we can look at the weight and then we can look at the weight gradients, we can use these gradients in gradint descent to train our network\n",
    "        optimizer.step()                 #Take an update step and few the new weights\n",
    "\n",
    "        running_loss += loss.item()      #we can increment are running loss; this way we can keep track of our training loss\n",
    "        \n",
    "\n",
    "#after each epochs, after each pass through the training set, then we're going to do a validation pass\n",
    "#after the above loop complete , run the below code\n",
    "\n",
    "#we actually want to drop out of the train loop and test our network accuracy and loss on our test dataset\n",
    "        if steps % print_every == 0:  #then we're going to go into our validation loop\n",
    "             model.eval()             #turns our model into evaluation inference mode which turns off dropout                                                \n",
    "            test_loss = 0\n",
    "            accuracy = 0\n",
    "            with torch.no_grad():                            # Turn off gradients for validation, saves memory and computations and to speed up this part\n",
    "                for inputs, labels in testloader:           #get our inputs and labels from testset\n",
    "                    inputs, labels = inputs.to(device), labels.to(device)\n",
    "                    logps = model.forward(inputs)             #pass images into our model to get our logprobabilities \n",
    "                    batch_loss = criterion(logps, labels)\n",
    "                    \n",
    "                    test_loss += batch_loss.item()  #this way allow us to keep track our test loss as we're going through these validation rules\n",
    "                    \n",
    "# Calculate accuracy\n",
    "                    ps = torch.exp(logps)                               #get actual probability distributions from logprobabilities\n",
    "                    top_p, top_class = ps.topk(1, dim=1)                #give us the top class or prediction class from network; first largest value in our probabilities along the columns\n",
    "\n",
    "#top_k actually returns a tuple with two tensors\n",
    "#the first tensor (top_p) actually probability and the second tensor(top_class) are the class indices themselves\n",
    "#i'm calling (topk) and i'm separating out the probabilities in the classes\n",
    "#so, we will just use this top class going forward        \n",
    "         \n",
    "                    equals = top_class == labels.view(*top_class.shape)            #checking for equality, we can see where our predicted classes match with the true classes from labels; equals should have same shape\n",
    "                    accuracy += torch.mean(equals.type(torch.FloatTensor)).item()  #equals has type torch.ByteTensor so we have to convert equals to a float tensor\n",
    "#basically; we've a running loss of our training loss of our training loss \n",
    "#and we've a test loss that we passed our test data through our model and measured the loss in accuracy                \n",
    "                \n",
    "                print(f\"Epoch {epoch+1}/{epochs}.. \"\n",
    "                  f\"Train loss: {running_loss/print_every:.3f}.. \"\n",
    "                  f\"Test loss: {test_loss/len(testloader):.3f}.. \"\n",
    "                  f\"Test accuracy: {accuracy/len(testloader):.3f}\")\n",
    "            \n",
    "            running_loss = 0\n",
    "            \n",
    "            model.train()                                             #to set model back into train mode which turns on dropout"
   ]
  },
  {
   "cell_type": "code",
   "execution_count": null,
   "metadata": {},
   "outputs": [],
   "source": []
  },
  {
   "cell_type": "code",
   "execution_count": null,
   "metadata": {},
   "outputs": [],
   "source": []
  },
  {
   "cell_type": "markdown",
   "metadata": {},
   "source": [
    "## Testing your network\n",
    "\n",
    "It's good practice to test your trained network on test data, images the network has never seen either in training or validation. This will give you a good estimate for the model's performance on completely new images. Run the test images through the network and measure the accuracy, the same way you did validation. You should be able to reach around 70% accuracy on the test set if the model has been trained well."
   ]
  },
  {
   "cell_type": "code",
   "execution_count": null,
   "metadata": {},
   "outputs": [],
   "source": [
    "# TODO: Do validation on the test set"
   ]
  },
  {
   "cell_type": "markdown",
   "metadata": {},
   "source": [
    "## Save the checkpoint\n",
    "\n",
    "Now that your network is trained, save the model so you can load it later for making predictions. You probably want to save other things such as the mapping of classes to indices which you get from one of the image datasets: `image_datasets['train'].class_to_idx`. You can attach this to the model as an attribute which makes inference easier later on.\n",
    "\n",
    "```model.class_to_idx = image_datasets['train'].class_to_idx```\n",
    "\n",
    "Remember that you'll want to completely rebuild the model later so you can use it for inference. Make sure to include any information you need in the checkpoint. If you want to load the model and keep training, you'll want to save the number of epochs as well as the optimizer state, `optimizer.state_dict`. You'll likely want to use this trained model in the next part of the project, so best to save it now."
   ]
  },
  {
   "cell_type": "code",
   "execution_count": null,
   "metadata": {},
   "outputs": [],
   "source": [
    "# TODO: Save the checkpoint "
   ]
  },
  {
   "cell_type": "markdown",
   "metadata": {},
   "source": [
    "## Loading the checkpoint\n",
    "\n",
    "At this point it's good to write a function that can load a checkpoint and rebuild the model. That way you can come back to this project and keep working on it without having to retrain the network."
   ]
  },
  {
   "cell_type": "code",
   "execution_count": null,
   "metadata": {},
   "outputs": [],
   "source": [
    "# TODO: Write a function that loads a checkpoint and rebuilds the model"
   ]
  },
  {
   "cell_type": "markdown",
   "metadata": {},
   "source": [
    "# Inference for classification\n",
    "\n",
    "Now you'll write a function to use a trained network for inference. That is, you'll pass an image into the network and predict the class of the flower in the image. Write a function called `predict` that takes an image and a model, then returns the top $K$ most likely classes along with the probabilities. It should look like \n",
    "\n",
    "```python\n",
    "probs, classes = predict(image_path, model)\n",
    "print(probs)\n",
    "print(classes)\n",
    "> [ 0.01558163  0.01541934  0.01452626  0.01443549  0.01407339]\n",
    "> ['70', '3', '45', '62', '55']\n",
    "```\n",
    "\n",
    "First you'll need to handle processing the input image such that it can be used in your network. \n",
    "\n",
    "## Image Preprocessing\n",
    "\n",
    "You'll want to use `PIL` to load the image ([documentation](https://pillow.readthedocs.io/en/latest/reference/Image.html)). It's best to write a function that preprocesses the image so it can be used as input for the model. This function should process the images in the same manner used for training. \n",
    "\n",
    "First, resize the images where the shortest side is 256 pixels, keeping the aspect ratio. This can be done with the [`thumbnail`](http://pillow.readthedocs.io/en/3.1.x/reference/Image.html#PIL.Image.Image.thumbnail) or [`resize`](http://pillow.readthedocs.io/en/3.1.x/reference/Image.html#PIL.Image.Image.thumbnail) methods. Then you'll need to crop out the center 224x224 portion of the image.\n",
    "\n",
    "Color channels of images are typically encoded as integers 0-255, but the model expected floats 0-1. You'll need to convert the values. It's easiest with a Numpy array, which you can get from a PIL image like so `np_image = np.array(pil_image)`.\n",
    "\n",
    "As before, the network expects the images to be normalized in a specific way. For the means, it's `[0.485, 0.456, 0.406]` and for the standard deviations `[0.229, 0.224, 0.225]`. You'll want to subtract the means from each color channel, then divide by the standard deviation. \n",
    "\n",
    "And finally, PyTorch expects the color channel to be the first dimension but it's the third dimension in the PIL image and Numpy array. You can reorder dimensions using [`ndarray.transpose`](https://docs.scipy.org/doc/numpy-1.13.0/reference/generated/numpy.ndarray.transpose.html). The color channel needs to be first and retain the order of the other two dimensions."
   ]
  },
  {
   "cell_type": "code",
   "execution_count": null,
   "metadata": {},
   "outputs": [],
   "source": [
    "def process_image(image):\n",
    "    ''' Scales, crops, and normalizes a PIL image for a PyTorch model,\n",
    "        returns an Numpy array\n",
    "    '''\n",
    "    \n",
    "    # TODO: Process a PIL image for use in a PyTorch model"
   ]
  },
  {
   "cell_type": "markdown",
   "metadata": {},
   "source": [
    "To check your work, the function below converts a PyTorch tensor and displays it in the notebook. If your `process_image` function works, running the output through this function should return the original image (except for the cropped out portions)."
   ]
  },
  {
   "cell_type": "code",
   "execution_count": null,
   "metadata": {},
   "outputs": [],
   "source": [
    "def imshow(image, ax=None, title=None):\n",
    "    if ax is None:\n",
    "        fig, ax = plt.subplots()\n",
    "    \n",
    "    # PyTorch tensors assume the color channel is the first dimension\n",
    "    # but matplotlib assumes is the third dimension\n",
    "    image = image.transpose((1, 2, 0))\n",
    "    \n",
    "    # Undo preprocessing\n",
    "    mean = np.array([0.485, 0.456, 0.406])\n",
    "    std = np.array([0.229, 0.224, 0.225])\n",
    "    image = std * image + mean\n",
    "    \n",
    "    # Image needs to be clipped between 0 and 1 or it looks like noise when displayed\n",
    "    image = np.clip(image, 0, 1)\n",
    "    \n",
    "    ax.imshow(image)\n",
    "    \n",
    "    return ax"
   ]
  },
  {
   "cell_type": "markdown",
   "metadata": {},
   "source": [
    "## Class Prediction\n",
    "\n",
    "Once you can get images in the correct format, it's time to write a function for making predictions with your model. A common practice is to predict the top 5 or so (usually called top-$K$) most probable classes. You'll want to calculate the class probabilities then find the $K$ largest values.\n",
    "\n",
    "To get the top $K$ largest values in a tensor use [`x.topk(k)`](http://pytorch.org/docs/master/torch.html#torch.topk). This method returns both the highest `k` probabilities and the indices of those probabilities corresponding to the classes. You need to convert from these indices to the actual class labels using `class_to_idx` which hopefully you added to the model or from an `ImageFolder` you used to load the data ([see here](#Save-the-checkpoint)). Make sure to invert the dictionary so you get a mapping from index to class as well.\n",
    "\n",
    "Again, this method should take a path to an image and a model checkpoint, then return the probabilities and classes.\n",
    "\n",
    "```python\n",
    "probs, classes = predict(image_path, model)\n",
    "print(probs)\n",
    "print(classes)\n",
    "> [ 0.01558163  0.01541934  0.01452626  0.01443549  0.01407339]\n",
    "> ['70', '3', '45', '62', '55']\n",
    "```"
   ]
  },
  {
   "cell_type": "code",
   "execution_count": null,
   "metadata": {},
   "outputs": [],
   "source": [
    "def predict(image_path, model, topk=5):\n",
    "    ''' Predict the class (or classes) of an image using a trained deep learning model.\n",
    "    '''\n",
    "    \n",
    "    # TODO: Implement the code to predict the class from an image file"
   ]
  },
  {
   "cell_type": "markdown",
   "metadata": {},
   "source": [
    "## Sanity Checking\n",
    "\n",
    "Now that you can use a trained model for predictions, check to make sure it makes sense. Even if the testing accuracy is high, it's always good to check that there aren't obvious bugs. Use `matplotlib` to plot the probabilities for the top 5 classes as a bar graph, along with the input image. It should look like this:\n",
    "\n",
    "<img src='assets/inference_example.png' width=300px>\n",
    "\n",
    "You can convert from the class integer encoding to actual flower names with the `cat_to_name.json` file (should have been loaded earlier in the notebook). To show a PyTorch tensor as an image, use the `imshow` function defined above."
   ]
  },
  {
   "cell_type": "code",
   "execution_count": null,
   "metadata": {},
   "outputs": [],
   "source": [
    "# TODO: Display an image along with the top 5 classes"
   ]
  }
 ],
 "metadata": {
  "kernelspec": {
   "display_name": "Python 3",
   "language": "python",
   "name": "python3"
  },
  "language_info": {
   "codemirror_mode": {
    "name": "ipython",
    "version": 3
   },
   "file_extension": ".py",
   "mimetype": "text/x-python",
   "name": "python",
   "nbconvert_exporter": "python",
   "pygments_lexer": "ipython3",
   "version": "3.6.3"
  }
 },
 "nbformat": 4,
 "nbformat_minor": 2
}
